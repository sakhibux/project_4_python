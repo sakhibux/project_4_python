{
  "nbformat": 4,
  "nbformat_minor": 0,
  "metadata": {
    "colab": {
      "provenance": [],
      "authorship_tag": "ABX9TyPHU5ejmF+YWA+rjnnTmEmm",
      "include_colab_link": true
    },
    "kernelspec": {
      "name": "python3",
      "display_name": "Python 3"
    },
    "language_info": {
      "name": "python"
    }
  },
  "cells": [
    {
      "cell_type": "markdown",
      "metadata": {
        "id": "view-in-github",
        "colab_type": "text"
      },
      "source": [
        "<a href=\"https://colab.research.google.com/github/sakhibux/project_4_python/blob/main/05_loops_control_flow.ipynb\" target=\"_parent\"><img src=\"https://colab.research.google.com/assets/colab-badge.svg\" alt=\"Open In Colab\"/></a>"
      ]
    },
    {
      "cell_type": "code",
      "execution_count": null,
      "metadata": {
        "id": "nZlsYre6PRS_",
        "colab": {
          "base_uri": "https://localhost:8080/"
        },
        "outputId": "5ffd99f0-23ab-4b9b-c343-82e235684cc1"
      },
      "outputs": [
        {
          "output_type": "stream",
          "name": "stdout",
          "text": [
            "Delete this line and write your code here! :)\n",
            "I am thinking of a number between 1 and 99...\n",
            "Enter a guess: 90\n",
            "Your guess is too high\n",
            "\n",
            "Enter a new guess: 44\n",
            "Your guess is too low\n",
            "\n",
            "Enter a new guess: 60\n",
            "Your guess is too low\n",
            "\n",
            "Enter a new guess: 70\n",
            "Your guess is too high\n",
            "\n",
            "Enter a new guess: 60\n",
            "Your guess is too low\n",
            "\n",
            "Enter a new guess: 65\n",
            "Your guess is too low\n",
            "\n",
            "Enter a new guess: 68\n",
            "Congrats! The number was: 68\n"
          ]
        }
      ],
      "source": [
        "# 00_guess_my_number.md\n",
        "\n",
        "def main():\n",
        "    print(\"Delete this line and write your code here! :)\")\n",
        "\n",
        "\n",
        "# This provided line is required at the end of\n",
        "# Python file to call the main() function.\n",
        "if __name__ == '__main__':\n",
        "    main()\n",
        "\n",
        "import random\n",
        "\n",
        "def main():\n",
        "    # Generate the secret number at random!\n",
        "    secret_number = random.randint(1, 99)\n",
        "\n",
        "    print(\"I am thinking of a number between 1 and 99...\")\n",
        "\n",
        "    # Get user's guess\n",
        "    guess = int(input(\"Enter a guess: \"))\n",
        "    # True if guess is not equal to secret number\n",
        "    while guess != secret_number:\n",
        "        if guess < secret_number:  # If-statement is True if guess is less than secret number\n",
        "            print(\"Your guess is too low\")\n",
        "        else:\n",
        "            print(\"Your guess is too high\")\n",
        "\n",
        "        print() # Print an empty line to tidy up the console for new guesses\n",
        "        guess = int(input(\"Enter a new guess: \"))  # Get a new guess from the user\n",
        "\n",
        "    print(\"Congrats! The number was: \" + str(secret_number))\n",
        "\n",
        "if __name__ == '__main__':\n",
        "    main()"
      ]
    },
    {
      "cell_type": "code",
      "source": [
        "# 01_fibonacci.md\n",
        "\n",
        "def main():\n",
        "    print(\"Delete this line and write your code here! :)\")\n",
        "\n",
        "\n",
        "# This provided line is required at the end of\n",
        "# Python file to call the main() function.\n",
        "if __name__ == '__main__':\n",
        "    main()\n",
        "\n",
        "MAX_TERM_VALUE : int = 50\n",
        "\n",
        "def main():\n",
        "    curr_term = 0  # The 0th Fibonacci Number\n",
        "    next_term = 1  # The 1st Fibonacci Number\n",
        "    while curr_term <= MAX_TERM_VALUE:\n",
        "        print(curr_term)\n",
        "        term_after_next = curr_term + next_term\n",
        "        curr_term = next_term\n",
        "        next_term = term_after_next\n",
        "\n",
        "\n",
        "# There is no need to edit code beyond this point\n",
        "\n",
        "if __name__ == '__main__':\n",
        "    main()"
      ],
      "metadata": {
        "colab": {
          "base_uri": "https://localhost:8080/"
        },
        "id": "fda7oH3BRvmV",
        "outputId": "a4f99bc5-95d9-41ab-ad9e-a1ea234004fe"
      },
      "execution_count": null,
      "outputs": [
        {
          "output_type": "stream",
          "name": "stdout",
          "text": [
            "Delete this line and write your code here! :)\n",
            "0\n",
            "1\n",
            "1\n",
            "2\n",
            "3\n",
            "5\n",
            "8\n",
            "13\n",
            "21\n",
            "34\n"
          ]
        }
      ]
    },
    {
      "cell_type": "code",
      "source": [
        "# 02_print_events.md\n",
        "\n",
        "def main():\n",
        "    print(\"Delete this line and write your code here! :)\")\n",
        "\n",
        "\n",
        "# This provided line is required at the end of\n",
        "# Python file to call the main() function.\n",
        "if __name__ == '__main__':\n",
        "    main()\n",
        "\n",
        "def main():\n",
        "    # This for-loop start at 0 and counts up to 19 (for a total of 20 numbers)\n",
        "    for i in range(10):\n",
        "        print(i * 2)  # Use the 'i' value inside the for-loop\n",
        "\n",
        "# Call the main function when \"run\", no need to edit anything below!\n",
        "if __name__ == \"__main__\":\n",
        "    main()"
      ],
      "metadata": {
        "colab": {
          "base_uri": "https://localhost:8080/"
        },
        "id": "h0E1XzrUSLLC",
        "outputId": "336effaf-0d94-493e-84cb-33bbb21b6afb"
      },
      "execution_count": null,
      "outputs": [
        {
          "output_type": "stream",
          "name": "stdout",
          "text": [
            "Delete this line and write your code here! :)\n",
            "0\n",
            "2\n",
            "4\n",
            "6\n",
            "8\n",
            "10\n",
            "12\n",
            "14\n",
            "16\n",
            "18\n"
          ]
        }
      ]
    },
    {
      "cell_type": "code",
      "source": [
        "# 03_wholesome_machine.md\n",
        "\n",
        "def main():\n",
        "    print(\"Delete this line and write your code here! :)\")\n",
        "\n",
        "\n",
        "# This provided line is required at the end of\n",
        "# Python file to call the main() function.\n",
        "if __name__ == '__main__':\n",
        "    main()\n",
        "\n",
        "AFFIRMATION : str = \"I am capable of doing anything I put my mind to.\"\n",
        "\n",
        "def main():\n",
        "    print(\"Please type the following affirmation: \" + AFFIRMATION)\n",
        "\n",
        "    user_feedback = input()  # Get user's input\n",
        "    while user_feedback != AFFIRMATION:  # While the user's input isn't the affirmation\n",
        "        # Tell the user that they did not type the affirmation correctly\n",
        "        print(\"That was not the affirmation.\")\n",
        "\n",
        "        # Ask the user to type the affirmation again!\n",
        "        print(\"Please type the following affirmation: \" + AFFIRMATION)\n",
        "        user_feedback = input()\n",
        "\n",
        "    print(\"That's right! :)\")\n",
        "\n",
        "\n",
        "# There is no need to edit code beyond this point\n",
        "\n",
        "if __name__ == '__main__':\n",
        "    main()"
      ],
      "metadata": {
        "colab": {
          "base_uri": "https://localhost:8080/"
        },
        "id": "AAzV2inJSvVj",
        "outputId": "6d92903d-e21c-4651-ce43-938351b9bb0a"
      },
      "execution_count": null,
      "outputs": [
        {
          "metadata": {
            "tags": null
          },
          "name": "stdout",
          "output_type": "stream",
          "text": [
            "Delete this line and write your code here! :)\n",
            "Please type the following affirmation: I am capable of doing anything I put my mind to.\n",
            "That was not the affirmation.\n",
            "Please type the following affirmation: I am capable of doing anything I put my mind to.\n",
            "That was not the affirmation.\n",
            "Please type the following affirmation: I am capable of doing anything I put my mind to.\n"
          ]
        }
      ]
    },
    {
      "cell_type": "code",
      "source": [
        "# 04_liftoff.md\n",
        "def main():\n",
        "    print(\"Delete this line and write your code here! :)\")\n",
        "\n",
        "\n",
        "# This provided line is required at the end of\n",
        "# Python file to call the main() function.\n",
        "if __name__ == '__main__':\n",
        "    main()\n"
      ],
      "metadata": {
        "id": "CKj3YYWiTWGM"
      },
      "execution_count": null,
      "outputs": []
    },
    {
      "cell_type": "code",
      "source": [
        "# 05_double_it.md\n",
        "def main():\n",
        "    print(\"Delete this line and write your code here! :)\")\n",
        "\n",
        "\n",
        "# This provided line is required at the end of\n",
        "# Python file to call the main() function.\n",
        "if __name__ == '__main__':\n",
        "    main()"
      ],
      "metadata": {
        "id": "bqsB8JLeTxhJ"
      },
      "execution_count": null,
      "outputs": []
    }
  ]
}